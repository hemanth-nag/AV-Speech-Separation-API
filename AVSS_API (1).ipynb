{
  "nbformat": 4,
  "nbformat_minor": 0,
  "metadata": {
    "colab": {
      "name": "AVSS_API.ipynb",
      "provenance": [],
      "collapsed_sections": []
    },
    "kernelspec": {
      "name": "python3",
      "display_name": "Python 3"
    },
    "accelerator": "GPU"
  },
  "cells": [
    {
      "cell_type": "code",
      "metadata": {
        "id": "vFK58vnOMRpF",
        "outputId": "a6a43691-659f-42ab-acfe-5e32f2f8f770",
        "colab": {
          "base_uri": "https://localhost:8080/"
        }
      },
      "source": [
        "!pip install face_alignment ffmpeg-python pyyaml==5.1.2 pydub pyngrok\n",
        "!git clone https://github.com/hemanth-nag/AV-Speech-Separation-API\n",
        "%cd AV-Speech-Separation-API\n",
        "from main import inference\n",
        "\n",
        "\n",
        "\n",
        "import os\n",
        "import time\n",
        "import threading\n",
        "import urllib.request\n",
        "from pyngrok import ngrok\n",
        "from werkzeug.utils import secure_filename\n",
        "from flask import Flask, flash, request, redirect, url_for, render_template, jsonify, send_from_directory\n",
        "\n",
        "ngrok.set_auth_token('223YbFWJ2yeMfEBFS6zX2BaNPVE_2Wu1Xm4Y3WhcwVSBG4mQY')\n",
        "os.environ[\"FLASK_ENV\"] = \"development\"\n",
        "\n",
        "app = Flask(__name__)\n",
        "port = 5000\n",
        "\n",
        "# Open a ngrok tunnel to the HTTP server\n",
        "public_url = ngrok.connect(port).public_url\n",
        "print(\" * ngrok tunnel \\\"{}\\\" -> \\\"http://127.0.0.1:{}\\\"\".format(public_url, port))\n",
        "\n",
        "# Update any base URLs to use the public ngrok URL\n",
        "app.config[\"BASE_URL\"] = public_url\n",
        "\n",
        "UPLOAD_FOLDER = './'\n",
        "app.config['UPLOAD_FOLDER'] = UPLOAD_FOLDER\n",
        "\n",
        "avs = inference()\n",
        "\n",
        "@app.route('/get1', methods=['GET'])\n",
        "def get_res1():\n",
        "\t\treturn send_from_directory('/content/AV-Speech-Separation-API/output_audio', filename='test_0.wav', as_attachment=True)\n",
        "\n",
        "@app.route('/get2', methods=['GET'])\n",
        "def get_res2():\n",
        "\t\treturn send_from_directory('/content/AV-Speech-Separation-API/output_audio', filename='test_1.wav', as_attachment=True)\n",
        "\n",
        "@app.route('/', methods=['POST', 'GET'])\n",
        "def upload():\n",
        "\tif 'file' not in request.files:\n",
        "\t\treturn 'No File'\n",
        "\telse:\n",
        "\t\tfile = request.files['file']\n",
        "\t\t#coords = request.data['coords']'\n",
        "\t\tfilename = 'vid.mp4'\n",
        "\t\tfile.save(os.path.join(app.config['UPLOAD_FOLDER'], filename))\n",
        "\t\tavs.avss('/content/AV-Speech-Separation-API/vid.mp4',coordinates=[[0,630],[630,1270]])\n",
        "\t\treturn 'OK'\n",
        "\t  \n",
        "if __name__ == \"__main__\":\n",
        "    threading.Thread(target=app.run, kwargs={\"use_reloader\": False}).start()\n"
      ],
      "execution_count": 1,
      "outputs": [
        {
          "output_type": "stream",
          "name": "stdout",
          "text": [
            "Requirement already satisfied: face_alignment in /usr/local/lib/python3.7/dist-packages (1.3.5)\n",
            "Requirement already satisfied: ffmpeg-python in /usr/local/lib/python3.7/dist-packages (0.2.0)\n",
            "Requirement already satisfied: pyyaml==5.1.2 in /usr/local/lib/python3.7/dist-packages (5.1.2)\n",
            "Requirement already satisfied: pydub in /usr/local/lib/python3.7/dist-packages (0.25.1)\n",
            "Requirement already satisfied: pyngrok in /usr/local/lib/python3.7/dist-packages (5.1.0)\n",
            "Requirement already satisfied: numpy in /usr/local/lib/python3.7/dist-packages (from face_alignment) (1.21.5)\n",
            "Requirement already satisfied: numba in /usr/local/lib/python3.7/dist-packages (from face_alignment) (0.51.2)\n",
            "Requirement already satisfied: scipy>=0.17 in /usr/local/lib/python3.7/dist-packages (from face_alignment) (1.4.1)\n",
            "Requirement already satisfied: tqdm in /usr/local/lib/python3.7/dist-packages (from face_alignment) (4.62.3)\n",
            "Requirement already satisfied: torch in /usr/local/lib/python3.7/dist-packages (from face_alignment) (1.10.0+cu111)\n",
            "Requirement already satisfied: scikit-image in /usr/local/lib/python3.7/dist-packages (from face_alignment) (0.18.3)\n",
            "Requirement already satisfied: opencv-python in /usr/local/lib/python3.7/dist-packages (from face_alignment) (4.1.2.30)\n",
            "Requirement already satisfied: future in /usr/local/lib/python3.7/dist-packages (from ffmpeg-python) (0.16.0)\n",
            "Requirement already satisfied: setuptools in /usr/local/lib/python3.7/dist-packages (from numba->face_alignment) (57.4.0)\n",
            "Requirement already satisfied: llvmlite<0.35,>=0.34.0.dev0 in /usr/local/lib/python3.7/dist-packages (from numba->face_alignment) (0.34.0)\n",
            "Requirement already satisfied: networkx>=2.0 in /usr/local/lib/python3.7/dist-packages (from scikit-image->face_alignment) (2.6.3)\n",
            "Requirement already satisfied: PyWavelets>=1.1.1 in /usr/local/lib/python3.7/dist-packages (from scikit-image->face_alignment) (1.2.0)\n",
            "Requirement already satisfied: tifffile>=2019.7.26 in /usr/local/lib/python3.7/dist-packages (from scikit-image->face_alignment) (2021.11.2)\n",
            "Requirement already satisfied: pillow!=7.1.0,!=7.1.1,>=4.3.0 in /usr/local/lib/python3.7/dist-packages (from scikit-image->face_alignment) (7.1.2)\n",
            "Requirement already satisfied: imageio>=2.3.0 in /usr/local/lib/python3.7/dist-packages (from scikit-image->face_alignment) (2.4.1)\n",
            "Requirement already satisfied: matplotlib!=3.0.0,>=2.0.0 in /usr/local/lib/python3.7/dist-packages (from scikit-image->face_alignment) (3.2.2)\n",
            "Requirement already satisfied: pyparsing!=2.0.4,!=2.1.2,!=2.1.6,>=2.0.1 in /usr/local/lib/python3.7/dist-packages (from matplotlib!=3.0.0,>=2.0.0->scikit-image->face_alignment) (3.0.7)\n",
            "Requirement already satisfied: cycler>=0.10 in /usr/local/lib/python3.7/dist-packages (from matplotlib!=3.0.0,>=2.0.0->scikit-image->face_alignment) (0.11.0)\n",
            "Requirement already satisfied: python-dateutil>=2.1 in /usr/local/lib/python3.7/dist-packages (from matplotlib!=3.0.0,>=2.0.0->scikit-image->face_alignment) (2.8.2)\n",
            "Requirement already satisfied: kiwisolver>=1.0.1 in /usr/local/lib/python3.7/dist-packages (from matplotlib!=3.0.0,>=2.0.0->scikit-image->face_alignment) (1.3.2)\n",
            "Requirement already satisfied: six>=1.5 in /usr/local/lib/python3.7/dist-packages (from python-dateutil>=2.1->matplotlib!=3.0.0,>=2.0.0->scikit-image->face_alignment) (1.15.0)\n",
            "Requirement already satisfied: typing-extensions in /usr/local/lib/python3.7/dist-packages (from torch->face_alignment) (3.10.0.2)\n",
            "fatal: destination path 'AV-Speech-Separation-API' already exists and is not an empty directory.\n",
            "/content/AV-Speech-Separation-API\n",
            " * ngrok tunnel \"http://f452-34-77-31-150.ngrok.io\" -> \"http://127.0.0.1:5000\"\n",
            " * Serving Flask app \"__main__\" (lazy loading)\n"
          ]
        }
      ]
    },
    {
      "cell_type": "code",
      "source": [
        ""
      ],
      "metadata": {
        "id": "cTVzG4skEqtg"
      },
      "execution_count": null,
      "outputs": []
    }
  ]
}